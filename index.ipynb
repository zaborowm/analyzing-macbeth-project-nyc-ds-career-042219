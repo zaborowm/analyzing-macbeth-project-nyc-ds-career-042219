{
 "cells": [
  {
   "cell_type": "markdown",
   "metadata": {},
   "source": [
    "# Project: Analyzing Macbeth\n",
    "\n",
    "## Introduction\n",
    "For our first day and first data science project, we're going to do some rudimentry analysis of Shakespeare's classic play: Macbeth! You will get practice working with lists, condtionals and dictionaries, visualizing data, and thinking analytically about data.\n",
    "\n",
    "## Objectives\n",
    "You will be able to:\n",
    "* Show mastery of the content covered in this section\n",
    "\n",
    "## Getting the Data\n",
    "Here we start by importing a python package and using it to pull the transcript of Macbeth from the project Gutenberg website. We also preview a few details about what is now stored in the variable macbeth; it's a string with 119,846 characters, the first 500 of which are printed below. "
   ]
  },
  {
   "cell_type": "code",
   "execution_count": 5,
   "metadata": {},
   "outputs": [
    {
     "name": "stdout",
     "output_type": "stream",
     "text": [
      "<class 'str'>\n",
      "119846\n",
      " the o're-fraught heart, and bids it breake\r\n",
      "\r\n",
      "   Macd. My Children too?\r\n",
      "  Ro. Wife, Children, Seruants, all that could be found\r\n",
      "\r\n",
      "   Macd. And I must be from thence? My wife kil'd too?\r\n",
      "  Rosse. I haue said\r\n",
      "\r\n",
      "   Malc. Be comforted.\r\n",
      "Let's make vs Med'cines of our great Reuenge,\r\n",
      "To cure this deadly greefe\r\n",
      "\r\n",
      "   Macd. He ha's no Children. All my pretty ones?\r\n",
      "Did you say All? Oh Hell-Kite! All?\r\n",
      "What, All my pretty Chickens, and their Damme\r\n",
      "At one fell swoope?\r\n",
      "  Malc. Dispute it like a man\r\n"
     ]
    }
   ],
   "source": [
    "import requests\n",
    "macbeth = requests.get('http://www.gutenberg.org/cache/epub/2264/pg2264.txt').text\n",
    "\n",
    "print(type(macbeth))\n",
    "print(len(macbeth))\n",
    "print(macbeth[100000:100500])"
   ]
  },
  {
   "cell_type": "markdown",
   "metadata": {},
   "source": [
    "## Your Task\n",
    "\n",
    "Your task is to create a bar graph of the 25 most common words in Shakespeare's Macbeth.  \n",
    "\n",
    "\n",
    "A common python programming pattern to counting objects, produce histograms, or update statistics is to make calls to a dictionary as you iterate through a list. For example, given a list of words, you can create a dictionary to store counts and then iterate through the list of words, checking how many times each word has appeared using your dictionary, and updating the dictionary count now that you've seen that word again. The `dictionary.get()` method is very useful in doing this. Read the docstring for the dictionary.get() method and use it along with the pseudocode above to create a bar graph of the 25 most common words from the transcript of Macbeth which has been loaded into a variable 'Macbeth'. Be sure to include a title and appropriate labels for your graph."
   ]
  },
  {
   "cell_type": "code",
   "execution_count": 6,
   "metadata": {},
   "outputs": [
    {
     "data": {
      "text/plain": [
       "Text(0, 0.5, 'Numbers Repeated')"
      ]
     },
     "execution_count": 6,
     "metadata": {},
     "output_type": "execute_result"
    },
    {
     "data": {
      "image/png": "[encoded data removed]",
      "text/plain": [
       "<Figure size 720x432 with 1 Axes>"
      ]
     },
     "metadata": {
      "needs_background": "light"
     },
     "output_type": "display_data"
    }
   ],
   "source": [
    "list_of_words = macbeth.split( )\n",
    "unique_words = list(set(list_of_words))\n",
    "\n",
    "word_histogram = dict.fromkeys(unique_words,0)\n",
    "for word in list_of_words:\n",
    "    word_histogram[word] = word_histogram[word]+1\n",
    "\n",
    "from collections import OrderedDict\n",
    "from operator import itemgetter\n",
    "\n",
    "d = word_histogram\n",
    "sorted_word_histogram = OrderedDict(sorted(d.items(), key = itemgetter(1), reverse = True))\n",
    "\n",
    "sorted_words = list(sorted_word_histogram.keys())\n",
    "sorted_numbers = list(sorted_word_histogram.values())\n",
    "x_value = sorted_words[0:24]\n",
    "y_value = sorted_numbers[0:24]\n",
    "\n",
    "import matplotlib.pyplot as plt\n",
    "%matplotlib inline\n",
    "\n",
    "plt.figure(figsize=(10,6))\n",
    "plt.bar(x_value, y_value)\n",
    "plt.xlabel(\"Frequently Used Words\")\n",
    "plt.ylabel(\"Numbers Repeated\")"
   ]
  },
  {
   "cell_type": "code",
   "execution_count": 7,
   "metadata": {},
   "outputs": [
    {
     "name": "stdout",
     "output_type": "stream",
     "text": [
      "['the', 'and', 'of', 'to', 'I', 'a', 'you', 'in', 'is', 'my', 'And', 'that', 'not', 'with', 'Macb.', 'be', 'The', 'it', 'his', 'your', 'our', 'haue', 'this', 'for']\n"
     ]
    }
   ],
   "source": [
    "sorted_words = list(sorted_word_histogram.keys())\n",
    "print(sorted_words[0:24])"
   ]
  },
  {
   "cell_type": "code",
   "execution_count": null,
   "metadata": {
    "collapsed": true
   },
   "outputs": [],
   "source": [
    "# Your code here\n",
    "\n",
    "# Pseudo-code Outline\n",
    "# Split the transcript into words\n",
    "# Create a dictionary\n",
    "# Iterate through the text of Macbeth\n",
    "# Update word counts\n",
    "# Create Bar Graph\n",
    "# Include descriptive titles and labels"
   ]
  },
  {
   "cell_type": "markdown",
   "metadata": {},
   "source": [
    "## Level Up (Optional)\n",
    "This project should take you about an hour and a half to complete. If you're done much more quickly than that and are not behind in the course, feel free to deepen your knowledge by completing any or all of the following tasks until you run out of time:\n",
    "* Create a list of top characters by mentions of their names \n",
    "* Split the text by which character is talking\n",
    "* Create subgraphs of the most common words by character\n",
    "* Reduce the string to the text of the play itself. (Remove any initial notes, forward, introduction, appendix, etc.)\n",
    "* Come up with some other fun analyses of the text!\n",
    "\n",
    "## Summary\n",
    "Congratulations! You've got some extra practice combining various data types into useful programming patterns and done an initial analysis of a classic text!"
   ]
  },
  {
   "cell_type": "code",
   "execution_count": 8,
   "metadata": {},
   "outputs": [
    {
     "data": {
      "text/plain": [
       "Text(0, 0.5, 'Numbers Repeated')"
      ]
     },
     "execution_count": 8,
     "metadata": {},
     "output_type": "execute_result"
    },
    {
     "data": {
      "image/png": "[encoded data removed]",
      "text/plain": [
       "<Figure size 720x432 with 1 Axes>"
      ]
     },
     "metadata": {
      "needs_background": "light"
     },
     "output_type": "display_data"
    }
   ],
   "source": [
    "list_of_words = macbeth.split( )\n",
    "unique_words = list(set(list_of_words))\n",
    "\n",
    "word_histogram = dict.fromkeys(unique_words,0)\n",
    "for word in list_of_words:\n",
    "    word_histogram[word] = word_histogram[word]+1\n",
    "\n",
    "from collections import OrderedDict\n",
    "from operator import itemgetter\n",
    "\n",
    "d = word_histogram\n",
    "sorted_word_histogram = OrderedDict(sorted(d.items(), key = itemgetter(1), reverse = True))\n",
    "\n",
    "sorted_words = list(sorted_word_histogram.keys())\n",
    "sorted_numbers = list(sorted_word_histogram.values())\n",
    "x_value = sorted_words[0:24]\n",
    "y_value = sorted_numbers[0:24]\n",
    "\n",
    "import matplotlib.pyplot as plt\n",
    "%matplotlib inline\n",
    "\n",
    "plt.figure(figsize=(10,6))\n",
    "plt.bar(x_value, y_value)\n",
    "plt.xlabel(\"Frequently Used Words\")\n",
    "plt.ylabel(\"Numbers Repeated\")"
   ]
  },
  {
   "cell_type": "code",
   "execution_count": null,
   "metadata": {},
   "outputs": [],
   "source": []
  }
 ],
 "metadata": {
  "kernelspec": {
   "display_name": "Python 3",
   "language": "python",
   "name": "python3"
  },
  "language_info": {
   "codemirror_mode": {
    "name": "ipython",
    "version": 3
   },
   "file_extension": ".py",
   "mimetype": "text/x-python",
   "name": "python",
   "nbconvert_exporter": "python",
   "pygments_lexer": "ipython3",
   "version": "3.6.6"
  }
 },
 "nbformat": 4,
 "nbformat_minor": 2
}
